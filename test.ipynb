{
 "cells": [
  {
   "cell_type": "markdown",
   "metadata": {},
   "source": [
    "__读取数据__"
   ]
  },
  {
   "cell_type": "code",
   "execution_count": null,
   "metadata": {},
   "outputs": [],
   "source": [
    "import rasterio\n",
    "from matplotlib import pyplot as plt\n",
    "import numpy as np\n",
    "\n",
    "# 打开ENVI格式的遥感数据文件\n",
    "with rasterio.open(\"D:\\ToolsRoming\\py\\sample.dat\") as src:\n",
    "    # 读取第2、3、4波段的数据\n",
    "    band1 = src.read(1)  # 假设1是第二个波段\n",
    "    band2 = src.read(2)  # 假设2是第三个波段\n",
    "    band3 = src.read(3)  # 假设3是第四个波段\n",
    "\n",
    "    # 将数据融合为RGB图像\n",
    "    # 注意：这里需要确保所有波段的数据形状相同\n",
    "    # 将第4波段作为红色，第3波段作为绿色通道，第2波段作为蓝色\n",
    "    rgb_image = np.dstack((band3, band2, band1))\n",
    "\n",
    "# 使用matplotlib展示RGB图像\n",
    "plt.imshow(rgb_image)\n",
    "plt.axis('off')  # 不显示坐标轴\n",
    "plt.show()"
   ]
  },
  {
   "cell_type": "markdown",
   "metadata": {},
   "source": [
    "__NDVI__"
   ]
  },
  {
   "cell_type": "code",
   "execution_count": null,
   "metadata": {},
   "outputs": [],
   "source": [
    "import numpy as np\n",
    "import rasterio\n",
    "from rasterio.plot import show\n",
    "\n",
    "# 打开ENVI格式的遥感数据文件\n",
    "with rasterio.open(\"D:\\ToolsRoming\\py\\sample.dat\") as src:\n",
    "    # 读取近红外和红色波段的数据\n",
    "    # 确保这里的波段索引与你的数据匹配\n",
    "    nir_band = src.read(4).astype(np.float16)  # 第四波段，近红外波段\n",
    "    red_band = src.read(3).astype(np.float16)   # 第三波段，红色波段\n",
    "\n",
    "    # 计算NDVI\n",
    "    # 避免除以零，给分母加一个小的常数\n",
    "    ndvi = (nir_band - red_band) / (nir_band + red_band)\n",
    "\n",
    "# 显示NDVI图像\n",
    "show(ndvi, cmap='gray')  # 使用适合NDVI的色图"
   ]
  },
  {
   "cell_type": "markdown",
   "metadata": {},
   "source": [
    "__NDBI__"
   ]
  },
  {
   "cell_type": "code",
   "execution_count": null,
   "metadata": {},
   "outputs": [],
   "source": [
    "import numpy as np\n",
    "import rasterio\n",
    "from rasterio.plot import show\n",
    "\n",
    "# 打开ENVI格式的遥感数据文件\n",
    "with rasterio.open(\"D:\\ToolsRoming\\py\\sample.dat\") as src:\n",
    "    # 读取近红外和红色波段的数据\n",
    "    # 确保这里的波段索引与你的数据匹配\n",
    "    nir_band = src.read(4).astype(np.float16)   # 第四波段，近红外\n",
    "    swir_band = src.read(5).astype(np.float16)  # 第五波段，短波\n",
    "\n",
    "    # 计算NDVI\n",
    "    # ndbi = (nir_band - swir_band) / (nir_band + swir_band)\n",
    "    ndbi = (swir_band - nir_band) / (swir_band + nir_band)\n",
    "\n",
    "# 显示NDVI图像\n",
    "show(ndbi, cmap='gray')  # 使用适合NDVI的色图"
   ]
  },
  {
   "cell_type": "markdown",
   "metadata": {},
   "source": [
    "__MNDWI__"
   ]
  },
  {
   "cell_type": "code",
   "execution_count": null,
   "metadata": {},
   "outputs": [],
   "source": [
    "import numpy as np\n",
    "import rasterio\n",
    "from rasterio.plot import show\n",
    "\n",
    "# 打开ENVI格式的遥感数据文件\n",
    "with rasterio.open(\"D:\\ToolsRoming\\py\\sample.dat\") as src:\n",
    "    # 读取近红外和红色波段的数据\n",
    "    # 确保这里的波段索引与你的数据匹配\n",
    "    green_band = src.read(2).astype(np.float16)  # 第五波段，短波\n",
    "    swir_band = src.read(5).astype(np.float16)   # 第四波段，近红外\n",
    "\n",
    "    # 计算NDVI\n",
    "    # 避免除以零，给分母加一个小的常数\n",
    "    mndwi = (green_band - swir_band) / (green_band + swir_band)\n",
    "\n",
    "# 显示NDVI图像\n",
    "show(mndwi, cmap='gray')  # 使用适合NDVI的色图"
   ]
  },
  {
   "cell_type": "markdown",
   "metadata": {},
   "source": [
    "__显示图像的窗体__"
   ]
  },
  {
   "cell_type": "code",
   "execution_count": null,
   "metadata": {},
   "outputs": [],
   "source": [
    "import tkinter as tk\n",
    "from tkinter import messagebox\n",
    "from matplotlib.figure import Figure\n",
    "from matplotlib.backends.backend_tkagg import FigureCanvasTkAgg\n",
    "import numpy as np\n",
    "import rasterio\n",
    "\n",
    "# 假设 mndwi 是一个已经计算好的 NumPy 数组\n",
    "# mndwi = ...\n",
    "\n",
    "def show_image_in_gui(image_data, title=\"Image\"):\n",
    "    # 创建一个 tkinter 窗体\n",
    "    root = tk.Tk()\n",
    "    root.title(title)\n",
    "\n",
    "    # 创建一个 Matplotlib 图像\n",
    "    fig = Figure(figsize=(10, 8))  # 可以根据需要调整图像大小\n",
    "    ax = fig.add_subplot(111)\n",
    "    cax = ax.imshow(image_data, cmap='gray', vmin=image_data.min(), vmax=image_data.max())\n",
    "    fig.colorbar(cax)\n",
    "\n",
    "    # 将 Matplotlib 图像嵌入到 tkinter 窗体中\n",
    "    canvas = FigureCanvasTkAgg(fig, master=root)\n",
    "    canvas.draw()\n",
    "    canvas.get_tk_widget().pack(side=tk.TOP, fill=tk.BOTH, expand=1)\n",
    "\n",
    "    # 定义关闭窗体时的回调函数\n",
    "    def on_closing():\n",
    "        print('Window is closing...')\n",
    "        root.destroy()\n",
    "\n",
    "    # 绑定关闭事件\n",
    "    root.protocol(\"WM_DELETE_WINDOW\", on_closing)\n",
    "\n",
    "    # 显示窗体\n",
    "    root.mainloop()\n"
   ]
  }
 ],
 "metadata": {
  "kernelspec": {
   "display_name": "RSdata-py3d11",
   "language": "python",
   "name": "python3"
  },
  "language_info": {
   "codemirror_mode": {
    "name": "ipython",
    "version": 3
   },
   "file_extension": ".py",
   "mimetype": "text/x-python",
   "name": "python",
   "nbconvert_exporter": "python",
   "pygments_lexer": "ipython3",
   "version": "3.11.7"
  }
 },
 "nbformat": 4,
 "nbformat_minor": 2
}
